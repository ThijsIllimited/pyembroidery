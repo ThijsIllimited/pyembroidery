{
 "cells": [
  {
   "cell_type": "code",
   "execution_count": 1,
   "metadata": {},
   "outputs": [],
   "source": [
    "import pyembroidery as pye\n",
    "import numpy as np\n",
    "import random\n",
    "import os\n",
    "from collections import Counter"
   ]
  },
  {
   "cell_type": "markdown",
   "metadata": {},
   "source": [
    "# Define a list of stitches"
   ]
  },
  {
   "cell_type": "code",
   "execution_count": 2,
   "metadata": {},
   "outputs": [
    {
     "name": "stdout",
     "output_type": "stream",
     "text": [
      "The most common coordinate is (108.49350163497192, 9.189288253870972) and it occurs 3 times.\n"
     ]
    }
   ],
   "source": [
    "# Random stitches\n",
    "# x = [random.uniform(1, 50) for i in range(100)]\n",
    "# y = [random.uniform(1, 50) for i in range(100)]\n",
    "# coordinates_random = [(x[i], y[i]) for i in range(len(x))]\n",
    "\n",
    "# impport coordinates from csv\n",
    "size_x = 145 #(mm)\n",
    "size_y = 145 #(mm)\n",
    "\n",
    "path = r'C:\\Users\\Thijs\\Documents\\Github\\stringart\\sphere_1000_200_40.csv'\n",
    "absolute_path = os.path.abspath(path)\n",
    "coordinates = np.genfromtxt(path, delimiter=',')\n",
    "max_x = np.max(coordinates[:, 0])\n",
    "max_y = np.max(coordinates[:, 1])\n",
    "scale_x = size_x / max_x\n",
    "scale_y = size_y / max_y\n",
    "coordinates_scaled = coordinates * [scale_x, scale_y]\n",
    "# coordinates = [(coordinates_scaled[i,0], coordinates_scaled[i,1]) for i in range(len(coordinates_scaled))]\n",
    "coordinates = []\n",
    "for cor0, cor1 in zip(coordinates_scaled[:-1], coordinates_scaled[1:]):\n",
    "    midpoint = (cor0 + cor1) / 2\n",
    "    coordinates.append((cor0[0], cor0[1]))\n",
    "    coordinates.append((midpoint[0], midpoint[1]))\n",
    "coordinates.append((coordinates_scaled[-1,0], coordinates_scaled[-1,1]))\n",
    "\n",
    "\n",
    "\n",
    "# combine x and y coordinates into tuples\n",
    "# coordinates_tuples = [(x[i], y[i]) for i in range(len(x))] + coordinates\n",
    "\n",
    "# count occurrences of each coordinate\n",
    "counter = Counter(coordinates)\n",
    "\n",
    "# get the most common coordinate and its count\n",
    "most_common_coordinate, count = counter.most_common(1)[0]\n",
    "\n",
    "print(f\"The most common coordinate is {most_common_coordinate} and it occurs {count} times.\")\n"
   ]
  },
  {
   "cell_type": "code",
   "execution_count": 3,
   "metadata": {},
   "outputs": [],
   "source": [
    "pattern = pye.EmbPattern()\n",
    "pattern.add_block(coordinates, \"red\")\n",
    "pye.write_dst(pattern, \"sphere2.dst\")"
   ]
  },
  {
   "cell_type": "code",
   "execution_count": null,
   "metadata": {},
   "outputs": [],
   "source": []
  }
 ],
 "metadata": {
  "kernelspec": {
   "display_name": "base",
   "language": "python",
   "name": "python3"
  },
  "language_info": {
   "codemirror_mode": {
    "name": "ipython",
    "version": 3
   },
   "file_extension": ".py",
   "mimetype": "text/x-python",
   "name": "python",
   "nbconvert_exporter": "python",
   "pygments_lexer": "ipython3",
   "version": "3.7.6"
  }
 },
 "nbformat": 4,
 "nbformat_minor": 2
}
